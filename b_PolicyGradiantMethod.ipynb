{
 "cells": [
  {
   "attachments": {},
   "cell_type": "markdown",
   "metadata": {},
   "source": [
    "本来我们是学习了一个action-value function，然后policy是根据这个function选择的。另一种可行的方法则是直接学习正确的policy:\n",
    "$$\\pi(a|s, \\theta)$$\n",
    "此处$\\theta$是policy模型的参数，我们要学习的就是参数。<p>\n",
    "即不断地进行如下更新:\n",
    "$$\\theta = \\theta + \\alpha \\nabla J(\\theta)$$\n",
    "要注意寻找action-value function时，我们模型的输出是state value或action value，而我们的输出目标是一个由真实reward和bootstrap得来的数值。"
   ]
  },
  {
   "cell_type": "code",
   "execution_count": null,
   "metadata": {},
   "outputs": [],
   "source": []
  }
 ],
 "metadata": {
  "language_info": {
   "name": "python"
  },
  "orig_nbformat": 4
 },
 "nbformat": 4,
 "nbformat_minor": 2
}
